{
 "cells": [
  {
   "cell_type": "code",
   "execution_count": 1,
   "metadata": {
    "collapsed": true
   },
   "outputs": [],
   "source": [
    "%matplotlib inline\n",
    "import numpy as np\n",
    "import matplotlib.pyplot as plt\n",
    "import pdb"
   ]
  },
  {
   "cell_type": "code",
   "execution_count": 2,
   "metadata": {
    "collapsed": false
   },
   "outputs": [
    {
     "ename": "SyntaxError",
     "evalue": "invalid syntax (<ipython-input-2-093429ecdfb6>, line 1)",
     "output_type": "error",
     "traceback": [
      "\u001b[0;36m  File \u001b[0;32m\"<ipython-input-2-093429ecdfb6>\"\u001b[0;36m, line \u001b[0;32m1\u001b[0m\n\u001b[0;31m    ** Plots **\u001b[0m\n\u001b[0m     ^\u001b[0m\n\u001b[0;31mSyntaxError\u001b[0m\u001b[0;31m:\u001b[0m invalid syntax\n"
     ]
    }
   ],
   "source": [
    "** Plots **"
   ]
  },
  {
   "cell_type": "code",
   "execution_count": null,
   "metadata": {
    "collapsed": false
   },
   "outputs": [],
   "source": [
    "I = np.array([803, 838, 926, 1000, 1480,650, 7640, 44800, 58600, 29700, 13100, 9610, 6050, 4650,\n",
    "              3760, 3360, 3410, 3300, 2900, 2510, 2420, 2170, 2080, 2220, 2350, 2100, 2080, 2440, 2120, 1940, 2040]) \n",
    "            \n",
    "    #Bent Creek Q is assumed to be inflow, and is represented as I\n",
    "\n",
    "O_exp = np.array([991, 1192, 847, 811, 1106, 3712, 4106, 6526, 39772, 52694, 36182, 14502, 10410, 6964, 4939,\n",
    "                  4164, 4329, 3446, 3295, 2814, 2427, 2154, 2032, 1831, 1723, 1881, 2053, 1881, 1694, 1823, 1644])\n",
    "\n",
    "    # Richmond Q is assumed to be outflow, and is represented as O_exp\n",
    "\n",
    "days = np.arange(len(O_exp))+1 # a simple array to count the number of days of measured data\n",
    "O_th = np.zeros(len(O_exp)) #O_th is the theoretical outflow, the equation we are testing\n",
    "O_th[0] = I[0] #The initial value of O_th is assumed to be the initial value of the inflow\n",
    "\n",
    "B = 500 #feet\n",
    "h = 9 #feet\n",
    "dt = 60*60*24 #one day, in seconds\n",
    "ds =110.1*5280\n",
    "S = (224.6-114.6)/(ds ) # slope is the height difference of Bent Creek and Richmond over the distance in feet\n",
    "kappa = 1.49 \n",
    "n = 0.03 # a standard assumption for river stream beds, found online\n",
    "\n",
    "### initial values of Muskingham variables are assumed to be constant throughout the flood period, and are \n",
    "### calculated according to the Manning equation, assuming u0 is equal to Manning's V. \n",
    "\n",
    "u0=(kappa/n)*S**(1/2.)*h**(2/3.)\n",
    "c0 = 5/3.*u0\n",
    "K = ds/c0\n",
    "x = 0.5 - O_th[0]/(2*B*S*c0*ds)\n",
    "\n",
    "C0 = -(K*x - 0.5*dt)/(K-K*x+0.5*dt)\n",
    "C1 = (K*x + 0.5*dt)/(K-K*x+0.5*dt)\n",
    "C2 = (K-K*x-0.5*dt)/(K-K*x+0.5*dt)\n",
    "\n",
    "for i in range(len(O_th)-1):\n",
    "    O_th[i+1] = C0*I[i+1] + C1*I[i] + C2*O_th[i]\n",
    "    \n",
    "plt.figure(figsize=(16,8))\n",
    "plt.subplot(2,2,1)\n",
    "plt.plot(days, O_th, lw = 2, c = 'r')\n",
    "plt.plot(days, O_exp, lw = 2, c = 'b')\n",
    "plt.plot(days, I, lw = 2, c = 'g')\n",
    "plt.legend(['Theoretical outflow', 'Experimental outflow', 'Inflow'])\n",
    "plt.xlabel('Days')\n",
    "plt.ylabel('Flow (cfs)')\n",
    "\n",
    "\n",
    "\n",
    "### This next section is super long because I wasn't concerned with coding efficiency at the time. \n",
    "### Most of this is just repeating the code from the initial plot, but I conducted a few sensitivity tests which are \n",
    "### noted in comments.\n",
    "\n",
    "plt.subplot(2,2,2)\n",
    "days = np.arange(len(O_exp))+1\n",
    "Oth_0 = O_exp[0]\n",
    "O_th = np.zeros(len(O_exp))\n",
    "O_th[0] = O_exp[0]\n",
    "Bs = [50, 500, 5000] # Varying stream width by an order of magnitude in both directions\n",
    "plt.plot(days, O_exp, lw = 2, c = 'b')\n",
    "colors = ['g', 'm', 'r']\n",
    "for H in range(len(Bs)):\n",
    "    B = Bs[H]\n",
    "    h = 9\n",
    "    dt = 60*60*24\n",
    "    S = (224.6-114.6)/(110.1*5280.)\n",
    "    kappa = 1.49\n",
    "    n = 0.03\n",
    "    u0=(kappa/n)*S**(1/2.)*h**(2/3.)\n",
    "    ds =110.1*5280\n",
    "    c0 = 5/3.*u0\n",
    "    K = ds/c0\n",
    "    x = 0.5 - Oth_0/(2*B*S*c0*ds)\n",
    "    C0 = -(K*x - 0.5*dt)/(K-K*x+0.5*dt)\n",
    "    C1 = (K*x + 0.5*dt)/(K-K*x+0.5*dt)\n",
    "    C2 = (K-K*x-0.5*dt)/(K-K*x+0.5*dt)\n",
    "    for i in range(len(O_th)-1):\n",
    "        O_th[i+1] = C0*I[i+1] + C1*I[i] + C2*O_th[i]\n",
    "    plt.plot(days, O_th, lw = 1, c = colors[H])\n",
    "plt.legend(['Experimental outflow', 'B= 50 feet', 'B= 500 feet', 'B= 5000 feet'])\n",
    "plt.xlabel('Days')\n",
    "plt.ylabel('Flow (cfs)')\n",
    "\n",
    "\n",
    "plt.subplot(2,2,3)\n",
    "days = np.arange(len(O_exp))+1\n",
    "\n",
    "O_th = np.zeros(len(O_exp))\n",
    "Oth_0 = [I[0]/10., I[0], I[0]*10] # Varying initial outflow by an order of magnitude\n",
    "B =  500\n",
    "plt.plot(days, O_exp, lw = 2, c = 'b')\n",
    "colors = ['g', 'm', 'r']\n",
    "for H in range(len(Oth_0)):\n",
    "    O_th[0] = Oth_0[H]\n",
    "    h = 9\n",
    "    dt = 60*60*24\n",
    "    S = (224.6-114.6)/(110.1*5280.)\n",
    "    kappa = 1.49\n",
    "    n = 0.03\n",
    "    u0=(kappa/n)*S**(1/2.)*h**(2/3.)\n",
    "    ds =110.1*5280\n",
    "    c0 = 5/3.*u0\n",
    "    K = ds/c0\n",
    "    x = 0.5 - O_th[0]/(2*B*S*c0*ds)\n",
    "    C0 = -(K*x - 0.5*dt)/(K-K*x+0.5*dt)\n",
    "    C1 = (K*x + 0.5*dt)/(K-K*x+0.5*dt)\n",
    "    C2 = (K-K*x-0.5*dt)/(K-K*x+0.5*dt)\n",
    "    for i in range(len(O_th)-1):\n",
    "        O_th[i+1] = C0*I[i+1] + C1*I[i] + C2*O_th[i]\n",
    "    plt.plot(days, O_th, lw = 1, c = colors[H])\n",
    "plt.legend(['Experimental outflow', '$Q_0 = I_0/10$', '$Q_0 = I_0$', '$Q_0 = 10I_0$'])\n",
    "plt.xlabel('Days')\n",
    "plt.ylabel('Flow (cfs)')\n",
    "\n",
    "\n",
    "days = np.arange(len(O_exp))+1\n",
    "Oth_0 = I[0]\n",
    "O_th = np.zeros(len(O_exp))\n",
    "O_th[0] = I[0]\n",
    "B = 500\n",
    "h = 9\n",
    "dt = 60*60*24\n",
    "S = (224.6-114.6)/(110.1*5280.)\n",
    "kappa = 1.49\n",
    "ns = [0.01, 0.03, 0.05] #Varying manning coefficient by an order of magnitude\n",
    "plt.subplot(2,2,4)\n",
    "plt.plot(days, O_exp, lw = 2, c = 'b')\n",
    "for H in range(len(ns)):\n",
    "    n = ns[H]\n",
    "    u0=(kappa/n)*S**(1/2.)*h**(2/3.)\n",
    "    ds =110.1*5280\n",
    "    c0 = 5/3.*u0\n",
    "    K = ds/c0\n",
    "    x = 0.5 - Oth_0/(2*B*S*c0*ds)\n",
    "    C0 = -(K*x - 0.5*dt)/(K-K*x+0.5*dt)\n",
    "    C1 = (K*x + 0.5*dt)/(K-K*x+0.5*dt)\n",
    "    C2 = (K-K*x-0.5*dt)/(K-K*x+0.5*dt)\n",
    "    for i in range(len(O_th)-1):\n",
    "        O_th[i+1] = C0*I[i+1] + C1*I[i] + C2*O_th[i]\n",
    "    plt.plot(days, O_th, lw = 1, c = colors[H])\n",
    "    plt.legend(['Experimental outflow', 'n = 0.01', 'n = 0.03', 'n = 0.05'])\n",
    "plt.xlabel('Days')\n",
    "plt.ylabel('Flow (cfs)')\n",
    "\n",
    "plt.show()\n"
   ]
  },
  {
   "cell_type": "markdown",
   "metadata": {},
   "source": [
    "**Analysis**"
   ]
  },
  {
   "cell_type": "markdown",
   "metadata": {},
   "source": [
    "The combined Muskingham method and the Manning equation are adequate at recreating measured outflow. The rise and the fall of the outflow relative to the inflow are the effectively same save for two places. The hydrograph briefly goes negative before the rise of outflow, an impossible prediction, and it overshoots the maximum outflow. In these models, x is determined to be 0.4996, meaning that the Q_0⁄((2BSc∆s)) term is several orders of magnitude below any regime of consequence. Thus, Q0 and B can both vary up to an order of magnitude and not affect the hydrograph, as x effectively remains at 0.5. The manning coefficient is not so insensitive. Increasing the manning coefficient to 0.5 brings the peak of the hydrograph closer to predicted levels, but translates the beginning of the outflow forward in time. Thus, the manning coefficient would seem to be the most important parameter to understand when trying to predict flood routing.\n",
    "\n"
   ]
  },
  {
   "cell_type": "code",
   "execution_count": null,
   "metadata": {
    "collapsed": true
   },
   "outputs": [],
   "source": []
  }
 ],
 "metadata": {
  "kernelspec": {
   "display_name": "Python 2",
   "language": "python",
   "name": "python2"
  },
  "language_info": {
   "codemirror_mode": {
    "name": "ipython",
    "version": 2
   },
   "file_extension": ".py",
   "mimetype": "text/x-python",
   "name": "python",
   "nbconvert_exporter": "python",
   "pygments_lexer": "ipython2",
   "version": "2.7.11"
  }
 },
 "nbformat": 4,
 "nbformat_minor": 0
}
